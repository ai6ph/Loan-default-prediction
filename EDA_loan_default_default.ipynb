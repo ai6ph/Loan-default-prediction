{
  "nbformat": 4,
  "nbformat_minor": 5,
  "metadata": {
    "kernelspec": {
      "display_name": "Python 3",
      "language": "python",
      "name": "python3"
    },
    "language_info": {
      "codemirror_mode": {
        "name": "ipython",
        "version": 3
      },
      "file_extension": ".py",
      "mimetype": "text/x-python",
      "name": "python",
      "nbconvert_exporter": "python",
      "pygments_lexer": "ipython3",
      "version": "3.7.9"
    },
    "papermill": {
      "default_parameters": {},
      "duration": 10.100052,
      "end_time": "2021-04-07T08:46:44.406189",
      "environment_variables": {},
      "exception": null,
      "input_path": "__notebook__.ipynb",
      "output_path": "__notebook__.ipynb",
      "parameters": {},
      "start_time": "2021-04-07T08:46:34.306137",
      "version": "2.3.2"
    },
    "colab": {
      "name": "EDA-loan-default-default.ipynb",
      "provenance": [],
      "collapsed_sections": [],
      "include_colab_link": true
    }
  },
  "cells": [
    {
      "cell_type": "markdown",
      "metadata": {
        "id": "view-in-github",
        "colab_type": "text"
      },
      "source": [
        "<a href=\"https://colab.research.google.com/github/ai6ph/Loan-default-prediction/blob/main/EDA_loan_default_default.ipynb\" target=\"_parent\"><img src=\"https://colab.research.google.com/assets/colab-badge.svg\" alt=\"Open In Colab\"/></a>"
      ]
    },
    {
      "cell_type": "markdown",
      "metadata": {
        "_cell_guid": "b1076dfc-b9ad-4769-8c92-a6c4dae69d19",
        "_kg_hide-input": false,
        "_kg_hide-output": false,
        "_uuid": "8f2839f25d086af736a60e9eeb907d3b93b6e0e5",
        "papermill": {
          "duration": 0.01376,
          "end_time": "2021-04-07T08:46:40.276039",
          "exception": false,
          "start_time": "2021-04-07T08:46:40.262279",
          "status": "completed"
        },
        "tags": [],
        "id": "remarkable-constitution"
      },
      "source": [
        "# Exploratory Data Anaysis : \n",
        "# Using Loan Default data\n",
        "\n"
      ],
      "id": "remarkable-constitution"
    },
    {
      "cell_type": "markdown",
      "metadata": {
        "id": "MDJTItdTGl-y"
      },
      "source": [
        "### Import Python Libraries"
      ],
      "id": "MDJTItdTGl-y"
    },
    {
      "cell_type": "code",
      "metadata": {
        "execution": {
          "iopub.execute_input": "2021-04-07T08:46:40.306578Z",
          "iopub.status.busy": "2021-04-07T08:46:40.305467Z",
          "iopub.status.idle": "2021-04-07T08:46:41.602347Z",
          "shell.execute_reply": "2021-04-07T08:46:41.601305Z"
        },
        "papermill": {
          "duration": 1.313581,
          "end_time": "2021-04-07T08:46:41.602591",
          "exception": false,
          "start_time": "2021-04-07T08:46:40.289010",
          "status": "completed"
        },
        "tags": [],
        "id": "decent-separate"
      },
      "source": [
        "import numpy as np # linear algebra\n",
        "import pandas as pd # data processing, CSV file I/O (e.g. pd.read_csv)\n",
        "\n",
        "\n",
        "import os\n",
        "\n",
        "# charts:\n",
        "import matplotlib.pyplot as plt\n",
        "import seaborn as sns \n",
        "color = sns.color_palette()\n",
        "\n",
        "import sklearn.metrics as metrics\n",
        "\n",
        "import warnings\n",
        "warnings.filterwarnings(\"ignore\")\n"
      ],
      "id": "decent-separate",
      "execution_count": 17,
      "outputs": []
    },
    {
      "cell_type": "markdown",
      "metadata": {
        "papermill": {
          "duration": 0.012348,
          "end_time": "2021-04-07T08:46:41.634562",
          "exception": false,
          "start_time": "2021-04-07T08:46:41.622214",
          "status": "completed"
        },
        "tags": [],
        "id": "joint-stadium"
      },
      "source": [
        "# Read the files in the directory"
      ],
      "id": "joint-stadium"
    },
    {
      "cell_type": "markdown",
      "metadata": {
        "papermill": {
          "duration": 0.012697,
          "end_time": "2021-04-07T08:46:41.706404",
          "exception": false,
          "start_time": "2021-04-07T08:46:41.693707",
          "status": "completed"
        },
        "tags": [],
        "id": "tracked-delicious"
      },
      "source": [
        "We have one file in the directory. Its named \"Default_Fin.csv\" and is in the \"loan-default-prediction\" folder\n",
        "\n",
        "# Read the file"
      ],
      "id": "tracked-delicious"
    },
    {
      "cell_type": "code",
      "metadata": {
        "execution": {
          "iopub.execute_input": "2021-04-07T08:46:41.748997Z",
          "iopub.status.busy": "2021-04-07T08:46:41.748374Z",
          "iopub.status.idle": "2021-04-07T08:46:41.813581Z",
          "shell.execute_reply": "2021-04-07T08:46:41.812906Z"
        },
        "papermill": {
          "duration": 0.086456,
          "end_time": "2021-04-07T08:46:41.813729",
          "exception": false,
          "start_time": "2021-04-07T08:46:41.727273",
          "status": "completed"
        },
        "tags": [],
        "colab": {
          "base_uri": "https://localhost:8080/",
          "height": 419
        },
        "id": "frozen-conservative",
        "outputId": "7b643b33-2504-4b71-9dc2-fb43c9436511"
      },
      "source": [
        "default = pd.read_csv('https://raw.githubusercontent.com/ai6ph/Loan-default-prediction/main/Default_Fin.csv')\n",
        "\n",
        "default"
      ],
      "id": "frozen-conservative",
      "execution_count": 18,
      "outputs": [
        {
          "output_type": "execute_result",
          "data": {
            "text/html": [
              "<div>\n",
              "<style scoped>\n",
              "    .dataframe tbody tr th:only-of-type {\n",
              "        vertical-align: middle;\n",
              "    }\n",
              "\n",
              "    .dataframe tbody tr th {\n",
              "        vertical-align: top;\n",
              "    }\n",
              "\n",
              "    .dataframe thead th {\n",
              "        text-align: right;\n",
              "    }\n",
              "</style>\n",
              "<table border=\"1\" class=\"dataframe\">\n",
              "  <thead>\n",
              "    <tr style=\"text-align: right;\">\n",
              "      <th></th>\n",
              "      <th>Index</th>\n",
              "      <th>Employed</th>\n",
              "      <th>Bank Balance</th>\n",
              "      <th>Annual Salary</th>\n",
              "      <th>Defaulted?</th>\n",
              "    </tr>\n",
              "  </thead>\n",
              "  <tbody>\n",
              "    <tr>\n",
              "      <th>0</th>\n",
              "      <td>1</td>\n",
              "      <td>1</td>\n",
              "      <td>8754.36</td>\n",
              "      <td>532339.56</td>\n",
              "      <td>0</td>\n",
              "    </tr>\n",
              "    <tr>\n",
              "      <th>1</th>\n",
              "      <td>2</td>\n",
              "      <td>0</td>\n",
              "      <td>9806.16</td>\n",
              "      <td>145273.56</td>\n",
              "      <td>0</td>\n",
              "    </tr>\n",
              "    <tr>\n",
              "      <th>2</th>\n",
              "      <td>3</td>\n",
              "      <td>1</td>\n",
              "      <td>12882.60</td>\n",
              "      <td>381205.68</td>\n",
              "      <td>0</td>\n",
              "    </tr>\n",
              "    <tr>\n",
              "      <th>3</th>\n",
              "      <td>4</td>\n",
              "      <td>1</td>\n",
              "      <td>6351.00</td>\n",
              "      <td>428453.88</td>\n",
              "      <td>0</td>\n",
              "    </tr>\n",
              "    <tr>\n",
              "      <th>4</th>\n",
              "      <td>5</td>\n",
              "      <td>1</td>\n",
              "      <td>9427.92</td>\n",
              "      <td>461562.00</td>\n",
              "      <td>0</td>\n",
              "    </tr>\n",
              "    <tr>\n",
              "      <th>...</th>\n",
              "      <td>...</td>\n",
              "      <td>...</td>\n",
              "      <td>...</td>\n",
              "      <td>...</td>\n",
              "      <td>...</td>\n",
              "    </tr>\n",
              "    <tr>\n",
              "      <th>9995</th>\n",
              "      <td>9996</td>\n",
              "      <td>1</td>\n",
              "      <td>8538.72</td>\n",
              "      <td>635908.56</td>\n",
              "      <td>0</td>\n",
              "    </tr>\n",
              "    <tr>\n",
              "      <th>9996</th>\n",
              "      <td>9997</td>\n",
              "      <td>1</td>\n",
              "      <td>9095.52</td>\n",
              "      <td>235928.64</td>\n",
              "      <td>0</td>\n",
              "    </tr>\n",
              "    <tr>\n",
              "      <th>9997</th>\n",
              "      <td>9998</td>\n",
              "      <td>1</td>\n",
              "      <td>10144.92</td>\n",
              "      <td>703633.92</td>\n",
              "      <td>0</td>\n",
              "    </tr>\n",
              "    <tr>\n",
              "      <th>9998</th>\n",
              "      <td>9999</td>\n",
              "      <td>1</td>\n",
              "      <td>18828.12</td>\n",
              "      <td>440029.32</td>\n",
              "      <td>0</td>\n",
              "    </tr>\n",
              "    <tr>\n",
              "      <th>9999</th>\n",
              "      <td>10000</td>\n",
              "      <td>0</td>\n",
              "      <td>2411.04</td>\n",
              "      <td>202355.40</td>\n",
              "      <td>0</td>\n",
              "    </tr>\n",
              "  </tbody>\n",
              "</table>\n",
              "<p>10000 rows × 5 columns</p>\n",
              "</div>"
            ],
            "text/plain": [
              "      Index  Employed  Bank Balance  Annual Salary  Defaulted?\n",
              "0         1         1       8754.36      532339.56           0\n",
              "1         2         0       9806.16      145273.56           0\n",
              "2         3         1      12882.60      381205.68           0\n",
              "3         4         1       6351.00      428453.88           0\n",
              "4         5         1       9427.92      461562.00           0\n",
              "...     ...       ...           ...            ...         ...\n",
              "9995   9996         1       8538.72      635908.56           0\n",
              "9996   9997         1       9095.52      235928.64           0\n",
              "9997   9998         1      10144.92      703633.92           0\n",
              "9998   9999         1      18828.12      440029.32           0\n",
              "9999  10000         0       2411.04      202355.40           0\n",
              "\n",
              "[10000 rows x 5 columns]"
            ]
          },
          "metadata": {
            "tags": []
          },
          "execution_count": 18
        }
      ]
    },
    {
      "cell_type": "markdown",
      "metadata": {
        "papermill": {
          "duration": 0.013388,
          "end_time": "2021-04-07T08:46:41.841696",
          "exception": false,
          "start_time": "2021-04-07T08:46:41.828308",
          "status": "completed"
        },
        "tags": [],
        "id": "fixed-cooperation"
      },
      "source": [
        "\"loan-default-prediction\" has 10,000 rows and 5 columns. "
      ],
      "id": "fixed-cooperation"
    },
    {
      "cell_type": "code",
      "metadata": {
        "execution": {
          "iopub.execute_input": "2021-04-07T08:46:41.875778Z",
          "iopub.status.busy": "2021-04-07T08:46:41.874809Z",
          "iopub.status.idle": "2021-04-07T08:46:41.893621Z",
          "shell.execute_reply": "2021-04-07T08:46:41.892717Z"
        },
        "papermill": {
          "duration": 0.038598,
          "end_time": "2021-04-07T08:46:41.893865",
          "exception": false,
          "start_time": "2021-04-07T08:46:41.855267",
          "status": "completed"
        },
        "tags": [],
        "colab": {
          "base_uri": "https://localhost:8080/"
        },
        "id": "endangered-character",
        "outputId": "1dac5c96-58f5-4edc-ba37-78dc2753e211"
      },
      "source": [
        "default.info()"
      ],
      "id": "endangered-character",
      "execution_count": 19,
      "outputs": [
        {
          "output_type": "stream",
          "text": [
            "<class 'pandas.core.frame.DataFrame'>\n",
            "RangeIndex: 10000 entries, 0 to 9999\n",
            "Data columns (total 5 columns):\n",
            " #   Column         Non-Null Count  Dtype  \n",
            "---  ------         --------------  -----  \n",
            " 0   Index          10000 non-null  int64  \n",
            " 1   Employed       10000 non-null  int64  \n",
            " 2   Bank Balance   10000 non-null  float64\n",
            " 3   Annual Salary  10000 non-null  float64\n",
            " 4   Defaulted?     10000 non-null  int64  \n",
            "dtypes: float64(2), int64(3)\n",
            "memory usage: 390.8 KB\n"
          ],
          "name": "stdout"
        }
      ]
    },
    {
      "cell_type": "markdown",
      "metadata": {
        "papermill": {
          "duration": 0.013776,
          "end_time": "2021-04-07T08:46:41.922180",
          "exception": false,
          "start_time": "2021-04-07T08:46:41.908404",
          "status": "completed"
        },
        "tags": [],
        "id": "dressed-region"
      },
      "source": [
        "Note that even though  Employed   and  Defaulted?  appear to be integers, these are boolean (Yes/No) \n",
        "\n",
        "There appear to be no missing values. Lets check that again"
      ],
      "id": "dressed-region"
    },
    {
      "cell_type": "code",
      "metadata": {
        "execution": {
          "iopub.execute_input": "2021-04-07T08:46:41.954528Z",
          "iopub.status.busy": "2021-04-07T08:46:41.953867Z",
          "iopub.status.idle": "2021-04-07T08:46:41.965218Z",
          "shell.execute_reply": "2021-04-07T08:46:41.964676Z"
        },
        "papermill": {
          "duration": 0.029276,
          "end_time": "2021-04-07T08:46:41.965364",
          "exception": false,
          "start_time": "2021-04-07T08:46:41.936088",
          "status": "completed"
        },
        "tags": [],
        "colab": {
          "base_uri": "https://localhost:8080/"
        },
        "id": "rental-soldier",
        "outputId": "f1c86b70-7bac-4e3c-9c69-e0304ea7ba39"
      },
      "source": [
        "default.isnull().sum()"
      ],
      "id": "rental-soldier",
      "execution_count": 20,
      "outputs": [
        {
          "output_type": "execute_result",
          "data": {
            "text/plain": [
              "Index            0\n",
              "Employed         0\n",
              "Bank Balance     0\n",
              "Annual Salary    0\n",
              "Defaulted?       0\n",
              "dtype: int64"
            ]
          },
          "metadata": {
            "tags": []
          },
          "execution_count": 20
        }
      ]
    },
    {
      "cell_type": "markdown",
      "metadata": {
        "papermill": {
          "duration": 0.01429,
          "end_time": "2021-04-07T08:46:41.997798",
          "exception": false,
          "start_time": "2021-04-07T08:46:41.983508",
          "status": "completed"
        },
        "tags": [],
        "id": "streaming-homework"
      },
      "source": [
        "Great! No missing values, we do not have to worry about missing value imputation in this data!\n",
        "\n",
        "Let us understand the data and get some summary statistics"
      ],
      "id": "streaming-homework"
    },
    {
      "cell_type": "code",
      "metadata": {
        "execution": {
          "iopub.execute_input": "2021-04-07T08:46:42.030473Z",
          "iopub.status.busy": "2021-04-07T08:46:42.029813Z",
          "iopub.status.idle": "2021-04-07T08:46:42.056581Z",
          "shell.execute_reply": "2021-04-07T08:46:42.057030Z"
        },
        "papermill": {
          "duration": 0.044576,
          "end_time": "2021-04-07T08:46:42.057193",
          "exception": false,
          "start_time": "2021-04-07T08:46:42.012617",
          "status": "completed"
        },
        "tags": [],
        "colab": {
          "base_uri": "https://localhost:8080/",
          "height": 297
        },
        "id": "short-password",
        "outputId": "24c0e183-5864-4045-9b29-e04e50b87b96"
      },
      "source": [
        "default.describe()"
      ],
      "id": "short-password",
      "execution_count": 21,
      "outputs": [
        {
          "output_type": "execute_result",
          "data": {
            "text/html": [
              "<div>\n",
              "<style scoped>\n",
              "    .dataframe tbody tr th:only-of-type {\n",
              "        vertical-align: middle;\n",
              "    }\n",
              "\n",
              "    .dataframe tbody tr th {\n",
              "        vertical-align: top;\n",
              "    }\n",
              "\n",
              "    .dataframe thead th {\n",
              "        text-align: right;\n",
              "    }\n",
              "</style>\n",
              "<table border=\"1\" class=\"dataframe\">\n",
              "  <thead>\n",
              "    <tr style=\"text-align: right;\">\n",
              "      <th></th>\n",
              "      <th>Index</th>\n",
              "      <th>Employed</th>\n",
              "      <th>Bank Balance</th>\n",
              "      <th>Annual Salary</th>\n",
              "      <th>Defaulted?</th>\n",
              "    </tr>\n",
              "  </thead>\n",
              "  <tbody>\n",
              "    <tr>\n",
              "      <th>count</th>\n",
              "      <td>10000.00000</td>\n",
              "      <td>10000.000000</td>\n",
              "      <td>10000.000000</td>\n",
              "      <td>10000.000000</td>\n",
              "      <td>10000.000000</td>\n",
              "    </tr>\n",
              "    <tr>\n",
              "      <th>mean</th>\n",
              "      <td>5000.50000</td>\n",
              "      <td>0.705600</td>\n",
              "      <td>10024.498524</td>\n",
              "      <td>402203.782224</td>\n",
              "      <td>0.033300</td>\n",
              "    </tr>\n",
              "    <tr>\n",
              "      <th>std</th>\n",
              "      <td>2886.89568</td>\n",
              "      <td>0.455795</td>\n",
              "      <td>5804.579486</td>\n",
              "      <td>160039.674988</td>\n",
              "      <td>0.179428</td>\n",
              "    </tr>\n",
              "    <tr>\n",
              "      <th>min</th>\n",
              "      <td>1.00000</td>\n",
              "      <td>0.000000</td>\n",
              "      <td>0.000000</td>\n",
              "      <td>9263.640000</td>\n",
              "      <td>0.000000</td>\n",
              "    </tr>\n",
              "    <tr>\n",
              "      <th>25%</th>\n",
              "      <td>2500.75000</td>\n",
              "      <td>0.000000</td>\n",
              "      <td>5780.790000</td>\n",
              "      <td>256085.520000</td>\n",
              "      <td>0.000000</td>\n",
              "    </tr>\n",
              "    <tr>\n",
              "      <th>50%</th>\n",
              "      <td>5000.50000</td>\n",
              "      <td>1.000000</td>\n",
              "      <td>9883.620000</td>\n",
              "      <td>414631.740000</td>\n",
              "      <td>0.000000</td>\n",
              "    </tr>\n",
              "    <tr>\n",
              "      <th>75%</th>\n",
              "      <td>7500.25000</td>\n",
              "      <td>1.000000</td>\n",
              "      <td>13995.660000</td>\n",
              "      <td>525692.760000</td>\n",
              "      <td>0.000000</td>\n",
              "    </tr>\n",
              "    <tr>\n",
              "      <th>max</th>\n",
              "      <td>10000.00000</td>\n",
              "      <td>1.000000</td>\n",
              "      <td>31851.840000</td>\n",
              "      <td>882650.760000</td>\n",
              "      <td>1.000000</td>\n",
              "    </tr>\n",
              "  </tbody>\n",
              "</table>\n",
              "</div>"
            ],
            "text/plain": [
              "             Index      Employed  Bank Balance  Annual Salary    Defaulted?\n",
              "count  10000.00000  10000.000000  10000.000000   10000.000000  10000.000000\n",
              "mean    5000.50000      0.705600  10024.498524  402203.782224      0.033300\n",
              "std     2886.89568      0.455795   5804.579486  160039.674988      0.179428\n",
              "min        1.00000      0.000000      0.000000    9263.640000      0.000000\n",
              "25%     2500.75000      0.000000   5780.790000  256085.520000      0.000000\n",
              "50%     5000.50000      1.000000   9883.620000  414631.740000      0.000000\n",
              "75%     7500.25000      1.000000  13995.660000  525692.760000      0.000000\n",
              "max    10000.00000      1.000000  31851.840000  882650.760000      1.000000"
            ]
          },
          "metadata": {
            "tags": []
          },
          "execution_count": 21
        }
      ]
    },
    {
      "cell_type": "markdown",
      "metadata": {
        "papermill": {
          "duration": 0.014559,
          "end_time": "2021-04-07T08:46:42.086719",
          "exception": false,
          "start_time": "2021-04-07T08:46:42.072160",
          "status": "completed"
        },
        "tags": [],
        "id": "hindu-rebecca"
      },
      "source": [
        "Ok.. 70.56% of the loan customers are employed\n",
        "\n",
        "and 3.33% have defaulted. This is a small number and will this is an imbalanced dataset. We will discuss how to handle imbalanced datasets in a bit...\n",
        "\n",
        "How did i get 3.33%? look at the means... what does mean signify for a boolean?"
      ],
      "id": "hindu-rebecca"
    },
    {
      "cell_type": "markdown",
      "metadata": {
        "papermill": {
          "duration": 0.014495,
          "end_time": "2021-04-07T08:46:42.116311",
          "exception": false,
          "start_time": "2021-04-07T08:46:42.101816",
          "status": "completed"
        },
        "tags": [],
        "id": "residential-metadata"
      },
      "source": [
        "# Visuliaztions "
      ],
      "id": "residential-metadata"
    },
    {
      "cell_type": "code",
      "metadata": {
        "execution": {
          "iopub.execute_input": "2021-04-07T08:46:42.150241Z",
          "iopub.status.busy": "2021-04-07T08:46:42.149332Z",
          "iopub.status.idle": "2021-04-07T08:46:42.377657Z",
          "shell.execute_reply": "2021-04-07T08:46:42.378095Z"
        },
        "papermill": {
          "duration": 0.247251,
          "end_time": "2021-04-07T08:46:42.378272",
          "exception": false,
          "start_time": "2021-04-07T08:46:42.131021",
          "status": "completed"
        },
        "tags": [],
        "colab": {
          "base_uri": "https://localhost:8080/",
          "height": 306
        },
        "id": "private-model",
        "outputId": "b5f6bb14-d7ca-43f5-b723-568ec3575758"
      },
      "source": [
        "plt.figure(figsize = (15, 5))\n",
        "plt.subplot(1,2,1)\n",
        "sns.boxplot(y = default['Bank Balance'])\n",
        "\n",
        "plt.subplot(1,2,2)\n",
        "sns.boxplot(y = default['Annual Salary'])\n",
        "plt.show()"
      ],
      "id": "private-model",
      "execution_count": 22,
      "outputs": [
        {
          "output_type": "display_data",
          "data": {
            "image/png": "[encoded data removed]",
            "text/plain": [
              "<Figure size 1080x360 with 2 Axes>"
            ]
          },
          "metadata": {
            "tags": [],
            "needs_background": "light"
          }
        }
      ]
    },
    {
      "cell_type": "code",
      "metadata": {
        "execution": {
          "iopub.execute_input": "2021-04-07T08:46:42.413462Z",
          "iopub.status.busy": "2021-04-07T08:46:42.412541Z",
          "iopub.status.idle": "2021-04-07T08:46:42.546696Z",
          "shell.execute_reply": "2021-04-07T08:46:42.547226Z"
        },
        "papermill": {
          "duration": 0.153499,
          "end_time": "2021-04-07T08:46:42.547405",
          "exception": false,
          "start_time": "2021-04-07T08:46:42.393906",
          "status": "completed"
        },
        "tags": [],
        "colab": {
          "base_uri": "https://localhost:8080/",
          "height": 436
        },
        "id": "necessary-wallet",
        "outputId": "f4268773-580a-452b-ee00-09f6f4a03453"
      },
      "source": [
        "plt.figure(figsize = (15, 5))\n",
        "plt.subplot(1,2,1)\n",
        "sns.countplot(default['Employed'])\n",
        "\n",
        "display( default[\"Employed\"].value_counts())\n",
        "\n",
        "default[\"Employed\"].value_counts(normalize=True)"
      ],
      "id": "necessary-wallet",
      "execution_count": 23,
      "outputs": [
        {
          "output_type": "display_data",
          "data": {
            "text/plain": [
              "1    7056\n",
              "0    2944\n",
              "Name: Employed, dtype: int64"
            ]
          },
          "metadata": {
            "tags": []
          }
        },
        {
          "output_type": "execute_result",
          "data": {
            "text/plain": [
              "1    0.7056\n",
              "0    0.2944\n",
              "Name: Employed, dtype: float64"
            ]
          },
          "metadata": {
            "tags": []
          },
          "execution_count": 23
        },
        {
          "output_type": "display_data",
          "data": {
            "image/png": "[encoded data removed]",
            "text/plain": [
              "<Figure size 1080x360 with 1 Axes>"
            ]
          },
          "metadata": {
            "tags": [],
            "needs_background": "light"
          }
        }
      ]
    },
    {
      "cell_type": "code",
      "metadata": {
        "execution": {
          "iopub.execute_input": "2021-04-07T08:46:42.605003Z",
          "iopub.status.busy": "2021-04-07T08:46:42.600591Z",
          "iopub.status.idle": "2021-04-07T08:46:42.689387Z",
          "shell.execute_reply": "2021-04-07T08:46:42.689770Z"
        },
        "papermill": {
          "duration": 0.125544,
          "end_time": "2021-04-07T08:46:42.689931",
          "exception": false,
          "start_time": "2021-04-07T08:46:42.564387",
          "status": "completed"
        },
        "tags": [],
        "colab": {
          "base_uri": "https://localhost:8080/",
          "height": 382
        },
        "id": "outstanding-moscow",
        "outputId": "73835837-fe06-4ad1-e3f6-6f909763f5d6"
      },
      "source": [
        "plt.subplot(1,2,2)\n",
        "sns.countplot(default['Defaulted?'])\n",
        "plt.show()\n",
        "\n",
        "display(default[\"Defaulted?\"].value_counts())\n",
        "\n",
        "default[\"Defaulted?\"].value_counts(normalize = True)"
      ],
      "id": "outstanding-moscow",
      "execution_count": 24,
      "outputs": [
        {
          "output_type": "display_data",
          "data": {
            "image/png": "[encoded data removed]",
            "text/plain": [
              "<Figure size 432x288 with 1 Axes>"
            ]
          },
          "metadata": {
            "tags": [],
            "needs_background": "light"
          }
        },
        {
          "output_type": "display_data",
          "data": {
            "text/plain": [
              "0    9667\n",
              "1     333\n",
              "Name: Defaulted?, dtype: int64"
            ]
          },
          "metadata": {
            "tags": []
          }
        },
        {
          "output_type": "execute_result",
          "data": {
            "text/plain": [
              "0    0.9667\n",
              "1    0.0333\n",
              "Name: Defaulted?, dtype: float64"
            ]
          },
          "metadata": {
            "tags": []
          },
          "execution_count": 24
        }
      ]
    },
    {
      "cell_type": "code",
      "metadata": {
        "execution": {
          "iopub.execute_input": "2021-04-07T08:46:42.732911Z",
          "iopub.status.busy": "2021-04-07T08:46:42.732310Z",
          "iopub.status.idle": "2021-04-07T08:46:42.960777Z",
          "shell.execute_reply": "2021-04-07T08:46:42.960192Z"
        },
        "papermill": {
          "duration": 0.253144,
          "end_time": "2021-04-07T08:46:42.960926",
          "exception": false,
          "start_time": "2021-04-07T08:46:42.707782",
          "status": "completed"
        },
        "tags": [],
        "colab": {
          "base_uri": "https://localhost:8080/",
          "height": 334
        },
        "id": "after-cemetery",
        "outputId": "8d2715e2-ca38-467a-8aae-36515b3ce060"
      },
      "source": [
        "plt.figure(figsize = (15, 5))\n",
        "plt.subplot(1,2,1)\n",
        "sns.boxplot(default['Defaulted?'], default['Bank Balance'])\n",
        "\n",
        "plt.subplot(1,2,2)\n",
        "sns.boxplot(default['Defaulted?'], default['Annual Salary'])\n",
        "plt.show()"
      ],
      "id": "after-cemetery",
      "execution_count": 25,
      "outputs": [
        {
          "output_type": "display_data",
          "data": {
            "image/png": "[encoded data removed]",
            "text/plain": [
              "<Figure size 1080x360 with 2 Axes>"
            ]
          },
          "metadata": {
            "tags": [],
            "needs_background": "light"
          }
        }
      ]
    },
    {
      "cell_type": "code",
      "metadata": {
        "execution": {
          "iopub.execute_input": "2021-04-07T08:46:43.005869Z",
          "iopub.status.busy": "2021-04-07T08:46:43.004882Z",
          "iopub.status.idle": "2021-04-07T08:46:43.036888Z",
          "shell.execute_reply": "2021-04-07T08:46:43.037381Z"
        },
        "papermill": {
          "duration": 0.057239,
          "end_time": "2021-04-07T08:46:43.037569",
          "exception": false,
          "start_time": "2021-04-07T08:46:42.980330",
          "status": "completed"
        },
        "tags": [],
        "colab": {
          "base_uri": "https://localhost:8080/",
          "height": 142
        },
        "id": "removable-consent",
        "outputId": "a31bf80f-ce13-4321-f00b-4b56dd5fe3bd"
      },
      "source": [
        "pd.crosstab(default['Employed'], default['Defaulted?'], normalize = 'index').round(2)"
      ],
      "id": "removable-consent",
      "execution_count": 26,
      "outputs": [
        {
          "output_type": "execute_result",
          "data": {
            "text/html": [
              "<div>\n",
              "<style scoped>\n",
              "    .dataframe tbody tr th:only-of-type {\n",
              "        vertical-align: middle;\n",
              "    }\n",
              "\n",
              "    .dataframe tbody tr th {\n",
              "        vertical-align: top;\n",
              "    }\n",
              "\n",
              "    .dataframe thead th {\n",
              "        text-align: right;\n",
              "    }\n",
              "</style>\n",
              "<table border=\"1\" class=\"dataframe\">\n",
              "  <thead>\n",
              "    <tr style=\"text-align: right;\">\n",
              "      <th>Defaulted?</th>\n",
              "      <th>0</th>\n",
              "      <th>1</th>\n",
              "    </tr>\n",
              "    <tr>\n",
              "      <th>Employed</th>\n",
              "      <th></th>\n",
              "      <th></th>\n",
              "    </tr>\n",
              "  </thead>\n",
              "  <tbody>\n",
              "    <tr>\n",
              "      <th>0</th>\n",
              "      <td>0.96</td>\n",
              "      <td>0.04</td>\n",
              "    </tr>\n",
              "    <tr>\n",
              "      <th>1</th>\n",
              "      <td>0.97</td>\n",
              "      <td>0.03</td>\n",
              "    </tr>\n",
              "  </tbody>\n",
              "</table>\n",
              "</div>"
            ],
            "text/plain": [
              "Defaulted?     0     1\n",
              "Employed              \n",
              "0           0.96  0.04\n",
              "1           0.97  0.03"
            ]
          },
          "metadata": {
            "tags": []
          },
          "execution_count": 26
        }
      ]
    },
    {
      "cell_type": "code",
      "metadata": {
        "execution": {
          "iopub.execute_input": "2021-04-07T08:46:43.082551Z",
          "iopub.status.busy": "2021-04-07T08:46:43.081873Z",
          "iopub.status.idle": "2021-04-07T08:46:43.246357Z",
          "shell.execute_reply": "2021-04-07T08:46:43.246857Z"
        },
        "papermill": {
          "duration": 0.190012,
          "end_time": "2021-04-07T08:46:43.247056",
          "exception": false,
          "start_time": "2021-04-07T08:46:43.057044",
          "status": "completed"
        },
        "tags": [],
        "colab": {
          "base_uri": "https://localhost:8080/",
          "height": 269
        },
        "id": "tropical-documentation",
        "outputId": "80eed474-4341-497a-db0c-76f02e0d8558"
      },
      "source": [
        "sns.heatmap(default[['Bank Balance', 'Annual Salary']].corr(), annot = True)\n",
        "plt.show()"
      ],
      "id": "tropical-documentation",
      "execution_count": 27,
      "outputs": [
        {
          "output_type": "display_data",
          "data": {
            "image/png": "[encoded data removed]",
            "text/plain": [
              "<Figure size 432x288 with 2 Axes>"
            ]
          },
          "metadata": {
            "tags": [],
            "needs_background": "light"
          }
        }
      ]
    },
    {
      "cell_type": "code",
      "metadata": {
        "execution": {
          "iopub.execute_input": "2021-04-07T08:46:43.290535Z",
          "iopub.status.busy": "2021-04-07T08:46:43.289633Z",
          "iopub.status.idle": "2021-04-07T08:46:43.299368Z",
          "shell.execute_reply": "2021-04-07T08:46:43.299838Z"
        },
        "papermill": {
          "duration": 0.033117,
          "end_time": "2021-04-07T08:46:43.300030",
          "exception": false,
          "start_time": "2021-04-07T08:46:43.266913",
          "status": "completed"
        },
        "tags": [],
        "colab": {
          "base_uri": "https://localhost:8080/"
        },
        "id": "friendly-ghana",
        "outputId": "330d8f24-31cc-4c1f-ab16-c22a70009dff"
      },
      "source": [
        "Q1, Q3 = default['Bank Balance'].quantile([.25, .75])\n",
        "IQR = Q3 - Q1\n",
        "LL = Q1 - 1.5*(IQR)\n",
        "UL = Q3 + 1.5*(IQR)\n",
        "\n",
        "df = default[default['Bank Balance'] > UL]\n",
        "df['Defaulted?'].count()"
      ],
      "id": "friendly-ghana",
      "execution_count": 28,
      "outputs": [
        {
          "output_type": "execute_result",
          "data": {
            "text/plain": [
              "31"
            ]
          },
          "metadata": {
            "tags": []
          },
          "execution_count": 28
        }
      ]
    },
    {
      "cell_type": "markdown",
      "metadata": {
        "papermill": {
          "duration": 0.020246,
          "end_time": "2021-04-07T08:46:43.340403",
          "exception": false,
          "start_time": "2021-04-07T08:46:43.320157",
          "status": "completed"
        },
        "tags": [],
        "id": "amber-spirit"
      },
      "source": [
        "# This is interesting!\n",
        "What do the below indicate?"
      ],
      "id": "amber-spirit"
    },
    {
      "cell_type": "code",
      "metadata": {
        "execution": {
          "iopub.execute_input": "2021-04-07T08:46:43.385325Z",
          "iopub.status.busy": "2021-04-07T08:46:43.384447Z",
          "iopub.status.idle": "2021-04-07T08:46:43.391909Z",
          "shell.execute_reply": "2021-04-07T08:46:43.392494Z"
        },
        "papermill": {
          "duration": 0.031528,
          "end_time": "2021-04-07T08:46:43.392668",
          "exception": false,
          "start_time": "2021-04-07T08:46:43.361140",
          "status": "completed"
        },
        "tags": [],
        "colab": {
          "base_uri": "https://localhost:8080/"
        },
        "id": "confident-comedy",
        "outputId": "3717caa2-ef88-4ff1-dae1-c7ad86c924bb"
      },
      "source": [
        "df['Defaulted?'].value_counts(normalize = True)"
      ],
      "id": "confident-comedy",
      "execution_count": 29,
      "outputs": [
        {
          "output_type": "execute_result",
          "data": {
            "text/plain": [
              "1    0.83871\n",
              "0    0.16129\n",
              "Name: Defaulted?, dtype: float64"
            ]
          },
          "metadata": {
            "tags": []
          },
          "execution_count": 29
        }
      ]
    },
    {
      "cell_type": "code",
      "metadata": {
        "execution": {
          "iopub.execute_input": "2021-04-07T08:46:43.437531Z",
          "iopub.status.busy": "2021-04-07T08:46:43.436640Z",
          "iopub.status.idle": "2021-04-07T08:46:43.443036Z",
          "shell.execute_reply": "2021-04-07T08:46:43.443425Z"
        },
        "papermill": {
          "duration": 0.030695,
          "end_time": "2021-04-07T08:46:43.443591",
          "exception": false,
          "start_time": "2021-04-07T08:46:43.412896",
          "status": "completed"
        },
        "tags": [],
        "colab": {
          "base_uri": "https://localhost:8080/"
        },
        "id": "artificial-principle",
        "outputId": "d42bcf7a-2dbd-4f67-fcb5-c7575bb7a98b"
      },
      "source": [
        "df['Defaulted?'].value_counts()"
      ],
      "id": "artificial-principle",
      "execution_count": 30,
      "outputs": [
        {
          "output_type": "execute_result",
          "data": {
            "text/plain": [
              "1    26\n",
              "0     5\n",
              "Name: Defaulted?, dtype: int64"
            ]
          },
          "metadata": {
            "tags": []
          },
          "execution_count": 30
        }
      ]
    },
    {
      "cell_type": "code",
      "metadata": {
        "execution": {
          "iopub.execute_input": "2021-04-07T08:46:43.489369Z",
          "iopub.status.busy": "2021-04-07T08:46:43.488441Z",
          "iopub.status.idle": "2021-04-07T08:46:43.493410Z",
          "shell.execute_reply": "2021-04-07T08:46:43.493831Z"
        },
        "papermill": {
          "duration": 0.02965,
          "end_time": "2021-04-07T08:46:43.494030",
          "exception": false,
          "start_time": "2021-04-07T08:46:43.464380",
          "status": "completed"
        },
        "tags": [],
        "id": "graduate-restoration"
      },
      "source": [
        "default['Bank Balance'] = np.where(default['Bank Balance'] > UL, UL, default['Bank Balance'] )"
      ],
      "id": "graduate-restoration",
      "execution_count": 31,
      "outputs": []
    },
    {
      "cell_type": "code",
      "metadata": {
        "execution": {
          "iopub.execute_input": "2021-04-07T08:46:43.539663Z",
          "iopub.status.busy": "2021-04-07T08:46:43.538763Z",
          "iopub.status.idle": "2021-04-07T08:46:43.632069Z",
          "shell.execute_reply": "2021-04-07T08:46:43.632476Z"
        },
        "papermill": {
          "duration": 0.117578,
          "end_time": "2021-04-07T08:46:43.632648",
          "exception": false,
          "start_time": "2021-04-07T08:46:43.515070",
          "status": "completed"
        },
        "tags": [],
        "colab": {
          "base_uri": "https://localhost:8080/",
          "height": 252
        },
        "id": "derived-chest",
        "outputId": "ad38eac8-3fc4-4939-a73c-584cd8de112c"
      },
      "source": [
        "sns.boxplot(y = default['Bank Balance'])\n",
        "plt.show()"
      ],
      "id": "derived-chest",
      "execution_count": 32,
      "outputs": [
        {
          "output_type": "display_data",
          "data": {
            "image/png": "[encoded data removed]",
            "text/plain": [
              "<Figure size 432x288 with 1 Axes>"
            ]
          },
          "metadata": {
            "tags": [],
            "needs_background": "light"
          }
        }
      ]
    },
    {
      "cell_type": "markdown",
      "metadata": {
        "papermill": {
          "duration": 0.021167,
          "end_time": "2021-04-07T08:46:43.675085",
          "exception": false,
          "start_time": "2021-04-07T08:46:43.653918",
          "status": "completed"
        },
        "tags": [],
        "id": "elect-renaissance"
      },
      "source": [
        "# to be continued ..."
      ],
      "id": "elect-renaissance"
    },
    {
      "cell_type": "code",
      "metadata": {
        "id": "gzC29HWNoJ9J"
      },
      "source": [
        ""
      ],
      "id": "gzC29HWNoJ9J",
      "execution_count": 32,
      "outputs": []
    }
  ]
}