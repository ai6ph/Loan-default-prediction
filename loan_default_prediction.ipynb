{
  "nbformat": 4,
  "nbformat_minor": 5,
  "metadata": {
    "kernelspec": {
      "display_name": "Python 3",
      "language": "python",
      "name": "python3"
    },
    "language_info": {
      "codemirror_mode": {
        "name": "ipython",
        "version": 3
      },
      "file_extension": ".py",
      "mimetype": "text/x-python",
      "name": "python",
      "nbconvert_exporter": "python",
      "pygments_lexer": "ipython3",
      "version": "3.7.10"
    },
    "papermill": {
      "default_parameters": {},
      "duration": 9.419074,
      "end_time": "2021-06-16T17:09:41.111860",
      "environment_variables": {},
      "exception": null,
      "input_path": "__notebook__.ipynb",
      "output_path": "__notebook__.ipynb",
      "parameters": {},
      "start_time": "2021-06-16T17:09:31.692786",
      "version": "2.3.3"
    },
    "colab": {
      "name": "loan-default-prediction.ipynb",
      "provenance": [],
      "include_colab_link": true
    }
  },
  "cells": [
    {
      "cell_type": "markdown",
      "metadata": {
        "id": "view-in-github",
        "colab_type": "text"
      },
      "source": [
        "<a href=\"https://colab.research.google.com/github/ai6ph/Loan-default-prediction/blob/main/loan_default_prediction.ipynb\" target=\"_parent\"><img src=\"https://colab.research.google.com/assets/colab-badge.svg\" alt=\"Open In Colab\"/></a>"
      ]
    },
    {
      "cell_type": "markdown",
      "metadata": {
        "papermill": {
          "duration": 0.014043,
          "end_time": "2021-06-16T17:09:38.366043",
          "exception": false,
          "start_time": "2021-06-16T17:09:38.352000",
          "status": "completed"
        },
        "tags": [],
        "id": "maritime-calculator"
      },
      "source": [
        "Objective of this project is to predict if the loanee will be a defaulter or not. \n",
        "We will use the custom dataset available on the Kaggle. \n",
        "We will use the simple and basic Data Science and machine learning methods to execute the solution."
      ],
      "id": "maritime-calculator"
    },
    {
      "cell_type": "code",
      "metadata": {
        "execution": {
          "iopub.execute_input": "2021-06-16T17:09:38.394138Z",
          "iopub.status.busy": "2021-06-16T17:09:38.393147Z",
          "iopub.status.idle": "2021-06-16T17:09:38.399659Z",
          "shell.execute_reply": "2021-06-16T17:09:38.400149Z",
          "shell.execute_reply.started": "2021-06-16T17:04:00.738067Z"
        },
        "papermill": {
          "duration": 0.02206,
          "end_time": "2021-06-16T17:09:38.400413",
          "exception": false,
          "start_time": "2021-06-16T17:09:38.378353",
          "status": "completed"
        },
        "tags": [],
        "id": "confident-warner"
      },
      "source": [
        "#Including the basic libraries at the start\n",
        "import pandas as pd\n",
        "import numpy as np"
      ],
      "id": "confident-warner",
      "execution_count": null,
      "outputs": []
    },
    {
      "cell_type": "markdown",
      "metadata": {
        "papermill": {
          "duration": 0.011799,
          "end_time": "2021-06-16T17:09:38.424375",
          "exception": false,
          "start_time": "2021-06-16T17:09:38.412576",
          "status": "completed"
        },
        "tags": [],
        "id": "olympic-motivation"
      },
      "source": [
        "Now let us impot the dataset to our notebook"
      ],
      "id": "olympic-motivation"
    },
    {
      "cell_type": "code",
      "metadata": {
        "execution": {
          "iopub.execute_input": "2021-06-16T17:09:38.451213Z",
          "iopub.status.busy": "2021-06-16T17:09:38.450670Z",
          "iopub.status.idle": "2021-06-16T17:09:38.477681Z",
          "shell.execute_reply": "2021-06-16T17:09:38.477036Z",
          "shell.execute_reply.started": "2021-06-16T17:04:03.706652Z"
        },
        "papermill": {
          "duration": 0.041448,
          "end_time": "2021-06-16T17:09:38.477814",
          "exception": false,
          "start_time": "2021-06-16T17:09:38.436366",
          "status": "completed"
        },
        "tags": [],
        "id": "latest-agency"
      },
      "source": [
        "#importing the dataset\n",
        "df=pd.read_csv(\"/content/Default_Fin.csv\")"
      ],
      "id": "latest-agency",
      "execution_count": null,
      "outputs": []
    },
    {
      "cell_type": "markdown",
      "metadata": {
        "papermill": {
          "duration": 0.012079,
          "end_time": "2021-06-16T17:09:38.502245",
          "exception": false,
          "start_time": "2021-06-16T17:09:38.490166",
          "status": "completed"
        },
        "tags": [],
        "id": "japanese-acquisition"
      },
      "source": [
        "Now let us have a simple look at our data."
      ],
      "id": "japanese-acquisition"
    },
    {
      "cell_type": "code",
      "metadata": {
        "execution": {
          "iopub.execute_input": "2021-06-16T17:09:38.536292Z",
          "iopub.status.busy": "2021-06-16T17:09:38.535643Z",
          "iopub.status.idle": "2021-06-16T17:09:38.551560Z",
          "shell.execute_reply": "2021-06-16T17:09:38.550948Z",
          "shell.execute_reply.started": "2021-06-16T17:04:06.811831Z"
        },
        "papermill": {
          "duration": 0.037453,
          "end_time": "2021-06-16T17:09:38.551694",
          "exception": false,
          "start_time": "2021-06-16T17:09:38.514241",
          "status": "completed"
        },
        "tags": [],
        "colab": {
          "base_uri": "https://localhost:8080/",
          "height": 204
        },
        "id": "least-andrew",
        "outputId": "306dc7ab-d89e-48ca-8936-8ce2018d5383"
      },
      "source": [
        "df.head()"
      ],
      "id": "least-andrew",
      "execution_count": null,
      "outputs": [
        {
          "output_type": "execute_result",
          "data": {
            "text/html": [
              "<div>\n",
              "<style scoped>\n",
              "    .dataframe tbody tr th:only-of-type {\n",
              "        vertical-align: middle;\n",
              "    }\n",
              "\n",
              "    .dataframe tbody tr th {\n",
              "        vertical-align: top;\n",
              "    }\n",
              "\n",
              "    .dataframe thead th {\n",
              "        text-align: right;\n",
              "    }\n",
              "</style>\n",
              "<table border=\"1\" class=\"dataframe\">\n",
              "  <thead>\n",
              "    <tr style=\"text-align: right;\">\n",
              "      <th></th>\n",
              "      <th>Index</th>\n",
              "      <th>Employed</th>\n",
              "      <th>Bank Balance</th>\n",
              "      <th>Annual Salary</th>\n",
              "      <th>Defaulted?</th>\n",
              "    </tr>\n",
              "  </thead>\n",
              "  <tbody>\n",
              "    <tr>\n",
              "      <th>0</th>\n",
              "      <td>1</td>\n",
              "      <td>1</td>\n",
              "      <td>8754.36</td>\n",
              "      <td>532339.56</td>\n",
              "      <td>0</td>\n",
              "    </tr>\n",
              "    <tr>\n",
              "      <th>1</th>\n",
              "      <td>2</td>\n",
              "      <td>0</td>\n",
              "      <td>9806.16</td>\n",
              "      <td>145273.56</td>\n",
              "      <td>0</td>\n",
              "    </tr>\n",
              "    <tr>\n",
              "      <th>2</th>\n",
              "      <td>3</td>\n",
              "      <td>1</td>\n",
              "      <td>12882.60</td>\n",
              "      <td>381205.68</td>\n",
              "      <td>0</td>\n",
              "    </tr>\n",
              "    <tr>\n",
              "      <th>3</th>\n",
              "      <td>4</td>\n",
              "      <td>1</td>\n",
              "      <td>6351.00</td>\n",
              "      <td>428453.88</td>\n",
              "      <td>0</td>\n",
              "    </tr>\n",
              "    <tr>\n",
              "      <th>4</th>\n",
              "      <td>5</td>\n",
              "      <td>1</td>\n",
              "      <td>9427.92</td>\n",
              "      <td>461562.00</td>\n",
              "      <td>0</td>\n",
              "    </tr>\n",
              "  </tbody>\n",
              "</table>\n",
              "</div>"
            ],
            "text/plain": [
              "   Index  Employed  Bank Balance  Annual Salary  Defaulted?\n",
              "0      1         1       8754.36      532339.56           0\n",
              "1      2         0       9806.16      145273.56           0\n",
              "2      3         1      12882.60      381205.68           0\n",
              "3      4         1       6351.00      428453.88           0\n",
              "4      5         1       9427.92      461562.00           0"
            ]
          },
          "metadata": {
            "tags": []
          },
          "execution_count": 17
        }
      ]
    },
    {
      "cell_type": "markdown",
      "metadata": {
        "papermill": {
          "duration": 0.012252,
          "end_time": "2021-06-16T17:09:38.576695",
          "exception": false,
          "start_time": "2021-06-16T17:09:38.564443",
          "status": "completed"
        },
        "tags": [],
        "id": "faced-compression"
      },
      "source": [
        "Now before we move ahead and start using the dataset, let us see if there is any need of data pre-processing by counting null or NaN values if any."
      ],
      "id": "faced-compression"
    },
    {
      "cell_type": "code",
      "metadata": {
        "execution": {
          "iopub.execute_input": "2021-06-16T17:09:38.607473Z",
          "iopub.status.busy": "2021-06-16T17:09:38.605452Z",
          "iopub.status.idle": "2021-06-16T17:09:38.610169Z",
          "shell.execute_reply": "2021-06-16T17:09:38.610736Z",
          "shell.execute_reply.started": "2021-06-16T17:04:10.704630Z"
        },
        "papermill": {
          "duration": 0.021825,
          "end_time": "2021-06-16T17:09:38.610887",
          "exception": false,
          "start_time": "2021-06-16T17:09:38.589062",
          "status": "completed"
        },
        "tags": [],
        "colab": {
          "base_uri": "https://localhost:8080/"
        },
        "id": "peripheral-mixture",
        "outputId": "8b824212-2817-41e1-e65c-13109c5aae6c"
      },
      "source": [
        "df.isnull().sum()"
      ],
      "id": "peripheral-mixture",
      "execution_count": null,
      "outputs": [
        {
          "output_type": "execute_result",
          "data": {
            "text/plain": [
              "Index            0\n",
              "Employed         0\n",
              "Bank Balance     0\n",
              "Annual Salary    0\n",
              "Defaulted?       0\n",
              "dtype: int64"
            ]
          },
          "metadata": {
            "tags": []
          },
          "execution_count": 18
        }
      ]
    },
    {
      "cell_type": "markdown",
      "metadata": {
        "papermill": {
          "duration": 0.012265,
          "end_time": "2021-06-16T17:09:38.635907",
          "exception": false,
          "start_time": "2021-06-16T17:09:38.623642",
          "status": "completed"
        },
        "tags": [],
        "id": "rising-polish"
      },
      "source": [
        "So, we can clearly see that there is no NaN values present in our data, we can directly move ahead and see the interelation of our features present in dataset."
      ],
      "id": "rising-polish"
    },
    {
      "cell_type": "markdown",
      "metadata": {
        "papermill": {
          "duration": 0.012261,
          "end_time": "2021-06-16T17:09:38.660737",
          "exception": false,
          "start_time": "2021-06-16T17:09:38.648476",
          "status": "completed"
        },
        "tags": [],
        "id": "scientific-premises"
      },
      "source": [
        "As we know that our target variable is \"Defaulted?\", we will look at the correlation present amoung all of them so we can see it there are any features we don't need in model development."
      ],
      "id": "scientific-premises"
    },
    {
      "cell_type": "code",
      "metadata": {
        "execution": {
          "iopub.execute_input": "2021-06-16T17:09:38.689001Z",
          "iopub.status.busy": "2021-06-16T17:09:38.688456Z",
          "iopub.status.idle": "2021-06-16T17:09:38.700986Z",
          "shell.execute_reply": "2021-06-16T17:09:38.701424Z",
          "shell.execute_reply.started": "2021-06-16T17:04:14.634064Z"
        },
        "papermill": {
          "duration": 0.027796,
          "end_time": "2021-06-16T17:09:38.701578",
          "exception": false,
          "start_time": "2021-06-16T17:09:38.673782",
          "status": "completed"
        },
        "tags": [],
        "colab": {
          "base_uri": "https://localhost:8080/",
          "height": 204
        },
        "id": "enabling-vietnamese",
        "outputId": "80e86f35-dfa7-42bb-cd58-069bb9cf5aa2"
      },
      "source": [
        "#looking at the inter-relation or correlation amoung all of the features\n",
        "df.corr()"
      ],
      "id": "enabling-vietnamese",
      "execution_count": null,
      "outputs": [
        {
          "output_type": "execute_result",
          "data": {
            "text/html": [
              "<div>\n",
              "<style scoped>\n",
              "    .dataframe tbody tr th:only-of-type {\n",
              "        vertical-align: middle;\n",
              "    }\n",
              "\n",
              "    .dataframe tbody tr th {\n",
              "        vertical-align: top;\n",
              "    }\n",
              "\n",
              "    .dataframe thead th {\n",
              "        text-align: right;\n",
              "    }\n",
              "</style>\n",
              "<table border=\"1\" class=\"dataframe\">\n",
              "  <thead>\n",
              "    <tr style=\"text-align: right;\">\n",
              "      <th></th>\n",
              "      <th>Index</th>\n",
              "      <th>Employed</th>\n",
              "      <th>Bank Balance</th>\n",
              "      <th>Annual Salary</th>\n",
              "      <th>Defaulted?</th>\n",
              "    </tr>\n",
              "  </thead>\n",
              "  <tbody>\n",
              "    <tr>\n",
              "      <th>Index</th>\n",
              "      <td>1.000000</td>\n",
              "      <td>-0.002597</td>\n",
              "      <td>0.010342</td>\n",
              "      <td>-0.001427</td>\n",
              "      <td>-0.005135</td>\n",
              "    </tr>\n",
              "    <tr>\n",
              "      <th>Employed</th>\n",
              "      <td>-0.002597</td>\n",
              "      <td>1.000000</td>\n",
              "      <td>-0.203578</td>\n",
              "      <td>0.753985</td>\n",
              "      <td>-0.035420</td>\n",
              "    </tr>\n",
              "    <tr>\n",
              "      <th>Bank Balance</th>\n",
              "      <td>0.010342</td>\n",
              "      <td>-0.203578</td>\n",
              "      <td>1.000000</td>\n",
              "      <td>-0.152243</td>\n",
              "      <td>0.350119</td>\n",
              "    </tr>\n",
              "    <tr>\n",
              "      <th>Annual Salary</th>\n",
              "      <td>-0.001427</td>\n",
              "      <td>0.753985</td>\n",
              "      <td>-0.152243</td>\n",
              "      <td>1.000000</td>\n",
              "      <td>-0.019871</td>\n",
              "    </tr>\n",
              "    <tr>\n",
              "      <th>Defaulted?</th>\n",
              "      <td>-0.005135</td>\n",
              "      <td>-0.035420</td>\n",
              "      <td>0.350119</td>\n",
              "      <td>-0.019871</td>\n",
              "      <td>1.000000</td>\n",
              "    </tr>\n",
              "  </tbody>\n",
              "</table>\n",
              "</div>"
            ],
            "text/plain": [
              "                  Index  Employed  Bank Balance  Annual Salary  Defaulted?\n",
              "Index          1.000000 -0.002597      0.010342      -0.001427   -0.005135\n",
              "Employed      -0.002597  1.000000     -0.203578       0.753985   -0.035420\n",
              "Bank Balance   0.010342 -0.203578      1.000000      -0.152243    0.350119\n",
              "Annual Salary -0.001427  0.753985     -0.152243       1.000000   -0.019871\n",
              "Defaulted?    -0.005135 -0.035420      0.350119      -0.019871    1.000000"
            ]
          },
          "metadata": {
            "tags": []
          },
          "execution_count": 19
        }
      ]
    },
    {
      "cell_type": "code",
      "metadata": {
        "execution": {
          "iopub.execute_input": "2021-06-16T17:09:38.730027Z",
          "iopub.status.busy": "2021-06-16T17:09:38.729499Z",
          "iopub.status.idle": "2021-06-16T17:09:38.736043Z",
          "shell.execute_reply": "2021-06-16T17:09:38.735608Z",
          "shell.execute_reply.started": "2021-06-16T17:04:17.584736Z"
        },
        "papermill": {
          "duration": 0.021566,
          "end_time": "2021-06-16T17:09:38.736169",
          "exception": false,
          "start_time": "2021-06-16T17:09:38.714603",
          "status": "completed"
        },
        "tags": [],
        "id": "native-philip"
      },
      "source": [
        "#Dropping \"Defaulted?\" and taking remaining as independent variable X\n",
        "X = df.drop(['Defaulted?'], axis=\"columns\")\n",
        "\n",
        "#Taking \"Defaulted?\" as dependent variable Y\n",
        "Y = df[\"Defaulted?\"]"
      ],
      "id": "native-philip",
      "execution_count": null,
      "outputs": []
    },
    {
      "cell_type": "code",
      "metadata": {
        "id": "AVbqebaf74D5"
      },
      "source": [
        ""
      ],
      "id": "AVbqebaf74D5",
      "execution_count": null,
      "outputs": []
    },
    {
      "cell_type": "markdown",
      "metadata": {
        "papermill": {
          "duration": 0.012699,
          "end_time": "2021-06-16T17:09:38.761869",
          "exception": false,
          "start_time": "2021-06-16T17:09:38.749170",
          "status": "completed"
        },
        "tags": [],
        "id": "reverse-sauce"
      },
      "source": [
        "Now, as we have only one dataset, we will split it into 2 parts, named test and train dataset.\n",
        "This will help us in giving more clear approach at model training and testing."
      ],
      "id": "reverse-sauce"
    },
    {
      "cell_type": "code",
      "metadata": {
        "execution": {
          "iopub.execute_input": "2021-06-16T17:09:38.791957Z",
          "iopub.status.busy": "2021-06-16T17:09:38.791408Z",
          "iopub.status.idle": "2021-06-16T17:09:39.651858Z",
          "shell.execute_reply": "2021-06-16T17:09:39.652520Z",
          "shell.execute_reply.started": "2021-06-16T17:04:20.592160Z"
        },
        "papermill": {
          "duration": 0.87786,
          "end_time": "2021-06-16T17:09:39.652703",
          "exception": false,
          "start_time": "2021-06-16T17:09:38.774843",
          "status": "completed"
        },
        "tags": [],
        "id": "ideal-motorcycle"
      },
      "source": [
        "#Importing required libraries for splitting dataset \n",
        "from sklearn.model_selection import train_test_split\n",
        "\n",
        "#Diving dataset to X_train and Y_train as training variables and y_train and y_test as testing variables\n",
        "#Making the ratio of 70% training and 30% testing as it is most efficient ratio.\n",
        "\n",
        "x_train, x_test, y_train, y_test = train_test_split(X,Y, test_size = 0.30, random_state = 0)"
      ],
      "id": "ideal-motorcycle",
      "execution_count": null,
      "outputs": []
    },
    {
      "cell_type": "markdown",
      "metadata": {
        "papermill": {
          "duration": 0.013202,
          "end_time": "2021-06-16T17:09:39.679055",
          "exception": false,
          "start_time": "2021-06-16T17:09:39.665853",
          "status": "completed"
        },
        "tags": [],
        "id": "lucky-enlargement"
      },
      "source": [
        "Once we have splitted the dataset, we will import the Logistic Regression into our notebook, as it only deals with 2 values, 0 or 1 and True or False which is the best fit for this case."
      ],
      "id": "lucky-enlargement"
    },
    {
      "cell_type": "code",
      "metadata": {
        "execution": {
          "iopub.execute_input": "2021-06-16T17:09:39.708937Z",
          "iopub.status.busy": "2021-06-16T17:09:39.708418Z",
          "iopub.status.idle": "2021-06-16T17:09:39.794045Z",
          "shell.execute_reply": "2021-06-16T17:09:39.794591Z",
          "shell.execute_reply.started": "2021-06-16T17:04:25.155006Z"
        },
        "papermill": {
          "duration": 0.101402,
          "end_time": "2021-06-16T17:09:39.794772",
          "exception": false,
          "start_time": "2021-06-16T17:09:39.693370",
          "status": "completed"
        },
        "tags": [],
        "id": "eleven-designation"
      },
      "source": [
        "#Importing the Logistic Regression \n",
        "from sklearn.linear_model import LogisticRegression\n",
        "\n",
        "#Creating Logistic Regression object\n",
        "lr = LogisticRegression()"
      ],
      "id": "eleven-designation",
      "execution_count": null,
      "outputs": []
    },
    {
      "cell_type": "markdown",
      "metadata": {
        "papermill": {
          "duration": 0.013257,
          "end_time": "2021-06-16T17:09:39.821776",
          "exception": false,
          "start_time": "2021-06-16T17:09:39.808519",
          "status": "completed"
        },
        "tags": [],
        "id": "helpful-rough"
      },
      "source": [
        "\n",
        "Now we will just train our model using x_train and y_train variables which we got by splitting dataset."
      ],
      "id": "helpful-rough"
    },
    {
      "cell_type": "code",
      "metadata": {
        "execution": {
          "iopub.execute_input": "2021-06-16T17:09:39.851459Z",
          "iopub.status.busy": "2021-06-16T17:09:39.850885Z",
          "iopub.status.idle": "2021-06-16T17:09:39.920153Z",
          "shell.execute_reply": "2021-06-16T17:09:39.920962Z",
          "shell.execute_reply.started": "2021-06-16T17:04:27.786732Z"
        },
        "papermill": {
          "duration": 0.085836,
          "end_time": "2021-06-16T17:09:39.921214",
          "exception": false,
          "start_time": "2021-06-16T17:09:39.835378",
          "status": "completed"
        },
        "tags": [],
        "colab": {
          "base_uri": "https://localhost:8080/"
        },
        "id": "placed-ethnic",
        "outputId": "0bcc30f0-a2b9-41b3-f5f3-775a37857f6f"
      },
      "source": [
        "#Fitting model with x_train and y_train variables\n",
        "lr.fit(x_train,y_train)"
      ],
      "id": "placed-ethnic",
      "execution_count": null,
      "outputs": [
        {
          "output_type": "execute_result",
          "data": {
            "text/plain": [
              "LogisticRegression(C=1.0, class_weight=None, dual=False, fit_intercept=True,\n",
              "                   intercept_scaling=1, l1_ratio=None, max_iter=100,\n",
              "                   multi_class='auto', n_jobs=None, penalty='l2',\n",
              "                   random_state=None, solver='lbfgs', tol=0.0001, verbose=0,\n",
              "                   warm_start=False)"
            ]
          },
          "metadata": {
            "tags": []
          },
          "execution_count": 23
        }
      ]
    },
    {
      "cell_type": "markdown",
      "metadata": {
        "papermill": {
          "duration": 0.024948,
          "end_time": "2021-06-16T17:09:39.971708",
          "exception": false,
          "start_time": "2021-06-16T17:09:39.946760",
          "status": "completed"
        },
        "tags": [],
        "id": "specialized-producer"
      },
      "source": [
        "Now we will predict the values over testing dataset and see what happens."
      ],
      "id": "specialized-producer"
    },
    {
      "cell_type": "code",
      "metadata": {
        "execution": {
          "iopub.execute_input": "2021-06-16T17:09:40.042971Z",
          "iopub.status.busy": "2021-06-16T17:09:40.041959Z",
          "iopub.status.idle": "2021-06-16T17:09:40.051996Z",
          "shell.execute_reply": "2021-06-16T17:09:40.055114Z",
          "shell.execute_reply.started": "2021-06-16T17:05:32.194716Z"
        },
        "papermill": {
          "duration": 0.058132,
          "end_time": "2021-06-16T17:09:40.055570",
          "exception": false,
          "start_time": "2021-06-16T17:09:39.997438",
          "status": "completed"
        },
        "tags": [],
        "colab": {
          "base_uri": "https://localhost:8080/"
        },
        "id": "cellular-finger",
        "outputId": "c562dd07-b731-47c5-a4d1-35dfde2ba51e"
      },
      "source": [
        "Yhat=lr.predict(x_test)\n",
        "Yhat"
      ],
      "id": "cellular-finger",
      "execution_count": null,
      "outputs": [
        {
          "output_type": "execute_result",
          "data": {
            "text/plain": [
              "array([0, 0, 0, ..., 0, 0, 0])"
            ]
          },
          "metadata": {
            "tags": []
          },
          "execution_count": 24
        }
      ]
    },
    {
      "cell_type": "markdown",
      "metadata": {
        "papermill": {
          "duration": 0.029041,
          "end_time": "2021-06-16T17:09:40.132427",
          "exception": false,
          "start_time": "2021-06-16T17:09:40.103386",
          "status": "completed"
        },
        "tags": [],
        "id": "dangerous-bedroom"
      },
      "source": [
        "Now finally, let us see our model accuracy firstly on training datset"
      ],
      "id": "dangerous-bedroom"
    },
    {
      "cell_type": "code",
      "metadata": {
        "execution": {
          "iopub.execute_input": "2021-06-16T17:09:40.181500Z",
          "iopub.status.busy": "2021-06-16T17:09:40.180559Z",
          "iopub.status.idle": "2021-06-16T17:09:40.187645Z",
          "shell.execute_reply": "2021-06-16T17:09:40.188513Z",
          "shell.execute_reply.started": "2021-06-16T17:06:25.862657Z"
        },
        "papermill": {
          "duration": 0.029754,
          "end_time": "2021-06-16T17:09:40.188754",
          "exception": false,
          "start_time": "2021-06-16T17:09:40.159000",
          "status": "completed"
        },
        "tags": [],
        "colab": {
          "base_uri": "https://localhost:8080/"
        },
        "id": "unique-ivory",
        "outputId": "a21ad0f9-046c-463e-dff0-369a7d1692f1"
      },
      "source": [
        "lr.score(x_train,y_train)"
      ],
      "id": "unique-ivory",
      "execution_count": null,
      "outputs": [
        {
          "output_type": "execute_result",
          "data": {
            "text/plain": [
              "0.9662857142857143"
            ]
          },
          "metadata": {
            "tags": []
          },
          "execution_count": 25
        }
      ]
    },
    {
      "cell_type": "markdown",
      "metadata": {
        "papermill": {
          "duration": 0.025823,
          "end_time": "2021-06-16T17:09:40.241494",
          "exception": false,
          "start_time": "2021-06-16T17:09:40.215671",
          "status": "completed"
        },
        "tags": [],
        "id": "requested-aruba"
      },
      "source": [
        "and finally accuracy of our model for testing dataset"
      ],
      "id": "requested-aruba"
    },
    {
      "cell_type": "code",
      "metadata": {
        "execution": {
          "iopub.execute_input": "2021-06-16T17:09:40.302752Z",
          "iopub.status.busy": "2021-06-16T17:09:40.301844Z",
          "iopub.status.idle": "2021-06-16T17:09:40.309407Z",
          "shell.execute_reply": "2021-06-16T17:09:40.310265Z",
          "shell.execute_reply.started": "2021-06-16T17:06:57.932419Z"
        },
        "papermill": {
          "duration": 0.042641,
          "end_time": "2021-06-16T17:09:40.310507",
          "exception": false,
          "start_time": "2021-06-16T17:09:40.267866",
          "status": "completed"
        },
        "tags": [],
        "colab": {
          "base_uri": "https://localhost:8080/"
        },
        "id": "framed-frontier",
        "outputId": "eee1432e-d2b8-4b11-ab4b-54f9a142d1f2"
      },
      "source": [
        "lr.score(x_test,y_test)"
      ],
      "id": "framed-frontier",
      "execution_count": null,
      "outputs": [
        {
          "output_type": "execute_result",
          "data": {
            "text/plain": [
              "0.961"
            ]
          },
          "metadata": {
            "tags": []
          },
          "execution_count": 26
        }
      ]
    },
    {
      "cell_type": "markdown",
      "metadata": {
        "papermill": {
          "duration": 0.026542,
          "end_time": "2021-06-16T17:09:40.370724",
          "exception": false,
          "start_time": "2021-06-16T17:09:40.344182",
          "status": "completed"
        },
        "tags": [],
        "id": "printable-nightmare"
      },
      "source": [
        "We can conclude that, we have successfully built a Machine Learning model to predict the Loan Defaulters using a custom dataset with a training accuracy of 96.6% approximately and testing accuracy of 96.1%."
      ],
      "id": "printable-nightmare"
    },
    {
      "cell_type": "code",
      "metadata": {
        "id": "7N1aVAc6r-Sw"
      },
      "source": [
        ""
      ],
      "id": "7N1aVAc6r-Sw",
      "execution_count": null,
      "outputs": []
    }
  ]
}